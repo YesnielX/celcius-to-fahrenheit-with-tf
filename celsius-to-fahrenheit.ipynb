{
  "nbformat": 4,
  "nbformat_minor": 0,
  "metadata": {
    "colab": {
      "name": "mini red neuronal.ipynb",
      "provenance": [],
      "authorship_tag": "ABX9TyMpZ2JUhTVALsH0xVrm4wz0",
      "include_colab_link": true
    },
    "kernelspec": {
      "name": "python3",
      "display_name": "Python 3"
    },
    "language_info": {
      "name": "python"
    }
  },
  "cells": [
    {
      "cell_type": "markdown",
      "metadata": {
        "id": "view-in-github",
        "colab_type": "text"
      },
      "source": [
        "<a href=\"https://colab.research.google.com/github/YesnielX/celsius-to-fahrenheit-with-tf/blob/master/celsius-to-fahrenheit.ipynb\" target=\"_parent\"><img src=\"https://colab.research.google.com/assets/colab-badge.svg\" alt=\"Open In Colab\"/></a>"
      ]
    },
    {
      "cell_type": "code",
      "metadata": {
        "id": "61QkNe0yZpRI"
      },
      "source": [
        "import tensorflow as tf\n",
        "import numpy as np"
      ],
      "execution_count": null,
      "outputs": []
    },
    {
      "cell_type": "code",
      "metadata": {
        "id": "5SIlPF-YZzTm"
      },
      "source": [
        "a = np.array([10, 30, -50, -10, -15, 5, 25], dtype=float)\n",
        "b = np.array([50, 86, -58, 14, 5, 41, 77], dtype=float)"
      ],
      "execution_count": null,
      "outputs": []
    },
    {
      "cell_type": "code",
      "metadata": {
        "id": "brTOwV8ac9qM"
      },
      "source": [
        "layer = tf.keras.layers.Dense(units=1, input_shape=[1])\n",
        "model = tf.keras.Sequential([layer])"
      ],
      "execution_count": null,
      "outputs": []
    },
    {
      "cell_type": "code",
      "metadata": {
        "id": "S3StyhE9duA7"
      },
      "source": [
        "model.compile(optimizer=tf.keras.optimizers.Adam(0.1), loss=\"mean_squared_error\")"
      ],
      "execution_count": null,
      "outputs": []
    },
    {
      "cell_type": "code",
      "metadata": {
        "colab": {
          "base_uri": "https://localhost:8080/"
        },
        "id": "aD2Z9SAYeKW3",
        "outputId": "0a37322a-b077-44f4-a9fe-d048ae51439b"
      },
      "source": [
        "print(\"Comenzando entrenamiento....\")\n",
        "history = model.fit(a, b, epochs=2000, verbose=False)\n",
        "print('Entrenamiento finalizado')"
      ],
      "execution_count": null,
      "outputs": [
        {
          "output_type": "stream",
          "text": [
            "Comenzando entrenamiento....\n",
            "Entrenamiento finalizado\n"
          ],
          "name": "stdout"
        }
      ]
    },
    {
      "cell_type": "code",
      "metadata": {
        "colab": {
          "base_uri": "https://localhost:8080/",
          "height": 296
        },
        "id": "EzfApxn6ewI9",
        "outputId": "ec871fb4-7e3f-4d3b-f746-58b04d1d96c6"
      },
      "source": [
        "import matplotlib.pyplot as plt\n",
        "plt.xlabel(\"# Epoca\")\n",
        "plt.ylabel(\"# Perdida\")\n",
        "plt.plot(history.history[\"loss\"])"
      ],
      "execution_count": null,
      "outputs": [
        {
          "output_type": "execute_result",
          "data": {
            "text/plain": [
              "[<matplotlib.lines.Line2D at 0x7f01e87c17d0>]"
            ]
          },
          "metadata": {
            "tags": []
          },
          "execution_count": 14
        },
        {
          "output_type": "display_data",
          "data": {
            "image/png": "[encoded data removed]",
            "text/plain": [
              "<Figure size 432x288 with 1 Axes>"
            ]
          },
          "metadata": {
            "tags": [],
            "needs_background": "light"
          }
        }
      ]
    },
    {
      "cell_type": "code",
      "metadata": {
        "colab": {
          "base_uri": "https://localhost:8080/"
        },
        "id": "epmJLyLLfgya",
        "outputId": "07039f94-71a7-4446-dcb9-3915affeb613"
      },
      "source": [
        "result = model.predict([-45])\n",
        "print(str(result))"
      ],
      "execution_count": null,
      "outputs": [
        {
          "output_type": "stream",
          "text": [
            "[[-49.00004]]\n"
          ],
          "name": "stdout"
        }
      ]
    }
  ]
}